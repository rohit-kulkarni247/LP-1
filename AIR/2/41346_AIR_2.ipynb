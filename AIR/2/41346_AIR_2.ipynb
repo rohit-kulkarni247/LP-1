{
  "nbformat": 4,
  "nbformat_minor": 0,
  "metadata": {
    "colab": {
      "name": "41346_AIR_2.ipynb",
      "provenance": []
    },
    "kernelspec": {
      "display_name": "Python 3",
      "language": "python",
      "name": "python3"
    },
    "language_info": {
      "codemirror_mode": {
        "name": "ipython",
        "version": 3
      },
      "file_extension": ".py",
      "mimetype": "text/x-python",
      "name": "python",
      "nbconvert_exporter": "python",
      "pygments_lexer": "ipython3",
      "version": "3.7.6"
    }
  },
  "cells": [
    {
      "cell_type": "code",
      "metadata": {
        "id": "IAfwYLA0xi4c"
      },
      "source": [
        "from nltk.chat.util import Chat, reflections"
      ],
      "execution_count": 1,
      "outputs": []
    },
    {
      "cell_type": "code",
      "metadata": {
        "id": "zBl3mOcWxi4g"
      },
      "source": [
        "pairs = [\n",
        "            [\n",
        "                r\"my name is(.*)\",\n",
        "                ['''Hello %1, how are you?\n",
        "                My name is Jarvis and I will help you with your finacial queries today.''',]\n",
        "            ],\n",
        "            [\n",
        "                r\"(.*)help(.*)\",\n",
        "                [\"I can help you with your finacial queries.\\n Go ahead! ask me a question\",]\n",
        "            ],\n",
        "            [\n",
        "                r\"my name is(.*)\",\n",
        "                ['''Hello %1, how are you?\n",
        "                My name is Jarvis and I will help you with your finacial queries today.''',]\n",
        "            ],\n",
        "            [\n",
        "                r\"what is your name?\",\n",
        "                [\"My name is Jarvis and I will help you with your finacial queries today.\",]\n",
        "            ],\n",
        "            [\n",
        "                r\"where to put(.*)money\",\n",
        "                [\"Basically there are many options to invest- 1.Regional and 2.Stocks.\\nIn which section would you like to invest?\",]\n",
        "            ],\n",
        "            [\n",
        "                r\"(.*)investment options(.*)\",\n",
        "                [\"Basically there are many options to invest- 1.Regional and 2.Stocks.\\nIn which section would you like to invest?\",]\n",
        "            ],\n",
        "            [\n",
        "                r\"Regional(.*)\",\n",
        "                [\"There are many- SBI,HSBC,DB. Which bank would you like to go for?\",]\n",
        "            ],\n",
        "            [\n",
        "                r\"SBI(.*)\",\n",
        "                [\"SBI offers 10 percent Interest.\",]\n",
        "            ],\n",
        "            [\n",
        "                r\"DB(.*)\",\n",
        "                [\"DB offers 09 percent Interest.\",]\n",
        "            ],\n",
        "            [\n",
        "                r\"HSBC(.*)\",\n",
        "                [\"HSBC offers 11 percent Interest.\",]\n",
        "            ],\n",
        "            [\n",
        "                r\"(.*)Stocks(.*)\",\n",
        "                [\"We have 2 companies to offer: 1. Persistent 2. Infosis.\\n choose any one to know more.\\n\",]\n",
        "            ],\n",
        "            [\n",
        "                r\"Infosis(.*)\",\n",
        "                [\"The company Infosis has a ROI = 15 percent\",]\n",
        "            ],\n",
        "            [\n",
        "                r\"Persistent(.*)\",\n",
        "                [\"The company Persistent has a ROI = 10 percent\",]\n",
        "            ],\n",
        "            [\n",
        "                r\"hi|hey|hello(.*)\",\n",
        "                [\"Hello\\nHow can i help you today?\", \"Hey there\\nHow can i help you today?\",]\n",
        "            ],\n",
        "            [\n",
        "                r\"quit\",\n",
        "                [\"Signing out, see you again :)\",]\n",
        "            ],\n",
        "            [\n",
        "                r\"how are you ?\",\n",
        "                [\"I'm doing good\\nHow about you ?\",]\n",
        "            ],\n",
        "            [\n",
        "                r\"(.*)sorry(.*)\",\n",
        "                [\"Its alright\",\"No problem\",]\n",
        "            ],\n",
        "            [\n",
        "                r\"(.*)thank you(.*)\",\n",
        "                [\"You're Welcome\",]\n",
        "            ]\n",
        "\n",
        "        ]"
      ],
      "execution_count": 2,
      "outputs": []
    },
    {
      "cell_type": "code",
      "metadata": {
        "id": "HfjD82_Sxi4i"
      },
      "source": [
        "def chatbot():\n",
        "    '''Chat is the class that contains all the logic to be used by the chatbot,\n",
        "    reflections is a predefined dictionary containing a set of input values and it's corresponding output values\n",
        "    '''\n",
        "    print(\"Booting up...\\nHey I am a simple ChatBot made without ML, only using NLTK library.\\n Please type in English language (lower case) what you want to ask me.\\n Type 'quit' to exit\")\n",
        "    chat = Chat(pairs, reflections)\n",
        "    chat.converse()"
      ],
      "execution_count": 3,
      "outputs": []
    },
    {
      "cell_type": "code",
      "metadata": {
        "colab": {
          "base_uri": "https://localhost:8080/"
        },
        "id": "231SBepKxi4j",
        "outputId": "b0095e74-c0b0-406b-a22a-9cdb29f8a8ff"
      },
      "source": [
        "if __name__ == \"__main__\":\n",
        "    chatbot()"
      ],
      "execution_count": 4,
      "outputs": [
        {
          "output_type": "stream",
          "name": "stdout",
          "text": [
            "Booting up...\n",
            "Hey I am a simple ChatBot made without ML, only using NLTK library.\n",
            " Please type in English language (lower case) what you want to ask me.\n",
            " Type 'quit' to exit\n",
            ">Hello\n",
            "Hey there\n",
            "How can i help you today?\n",
            ">What is your name\n",
            "My name is Jarvis and I will help you with your finacial queries today.\n",
            ">Investment options\n",
            "Basically there are many options to invest- 1.Regional and 2.Stocks.\n",
            "In which section would you like to invest?\n",
            ">Regional\n",
            "There are many- SBI,HSBC,DB. Which bank would you like to go for?\n",
            ">HSBC\n",
            "HSBC offers 11 percent Interest.\n",
            ">DB\n",
            "DB offers 09 percent Interest.\n",
            ">Stocks\n",
            "We have 2 companies to offer: 1. Persistent 2. Infosis.\n",
            " choose any one to know more.\n",
            "\n",
            ">Infosis\n",
            "The company Infosis has a ROI = 15 percent\n",
            ">Persistent\n",
            "The company Persistent has a ROI = 10 percent\n",
            ">Thank you\n",
            "You're Welcome\n",
            ">quit\n",
            "Signing out, see you again :)\n"
          ]
        }
      ]
    }
  ]
}