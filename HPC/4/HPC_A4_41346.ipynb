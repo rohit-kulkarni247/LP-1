{
  "nbformat": 4,
  "nbformat_minor": 0,
  "metadata": {
    "colab": {
      "name": "HPC_A4_41346.ipynb",
      "provenance": [],
      "collapsed_sections": []
    },
    "kernelspec": {
      "name": "python3",
      "display_name": "Python 3"
    },
    "language_info": {
      "name": "python"
    }
  },
  "cells": [
    {
      "cell_type": "markdown",
      "metadata": {
        "id": "21IQz1yW1M51"
      },
      "source": [
        "# **Assignment 11 (HPC-4)**\n",
        "#### Name : Rohit Kulkarni\n",
        "#### Roll No : 41346"
      ]
    },
    {
      "cell_type": "markdown",
      "metadata": {
        "id": "OnpIjIXjzA1b"
      },
      "source": [
        "## **BINARY SEARCH**"
      ]
    },
    {
      "cell_type": "code",
      "metadata": {
        "id": "T8UFib4_zJSD"
      },
      "source": [
        "code = \"\"\"\n",
        "#include<mpi.h>\n",
        "#include<stdio.h>\n",
        "\n",
        "#define n 12\n",
        "\n",
        "#define key 55\n",
        "\n",
        "int a[] = {1,2,3,4,7,9,13,24,55,56,67,88};\n",
        "\n",
        "int a2[20];\n",
        "\n",
        "int binarySearch(int *array, int start, int end, int value) {\n",
        "    int mid;\n",
        "    \n",
        "    while(start <= end) {\n",
        "        mid = (start + end) / 2;\n",
        "        if(array[mid] == value) \n",
        "            return mid;\n",
        "        else if(array[mid] > value)\n",
        "            end = mid - 1;\n",
        "        else\n",
        "            start = mid + 1;\n",
        "    }\n",
        "    return -1;\n",
        "}\n",
        "\n",
        "int main(int argc, char* argv[]) {\n",
        "    int pid, np, elements_per_process, n_elements_received;\n",
        "    \n",
        "    MPI_Status status;\n",
        "    \n",
        "    MPI_Init(&argc, &argv);\n",
        "    \n",
        "    MPI_Comm_rank(MPI_COMM_WORLD, &pid);\n",
        "    MPI_Comm_size(MPI_COMM_WORLD, &np);\n",
        "    \n",
        "    if(pid == 0) {\n",
        "        int index, i;\n",
        "        \n",
        "        if(np > 1) {\n",
        "            for(i=1; i<np-1; i++) {\n",
        "                \n",
        "                index = i * elements_per_process;\n",
        "                //element count\n",
        "                MPI_Send(&elements_per_process, 1, MPI_INT, i, 0, MPI_COMM_WORLD);\n",
        "\n",
        "                MPI_Send(&a[index], elements_per_process, MPI_INT, i, 0, MPI_COMM_WORLD);\n",
        "            \n",
        "            }\n",
        "            \n",
        "            index = i* elements_per_process;\n",
        "            \n",
        "            int elements_left = n - index;\n",
        "            \n",
        "            MPI_Send(&elements_left, 1, MPI_INT, i, 0, MPI_COMM_WORLD);\n",
        "            \n",
        "            MPI_Send(&a[index], elements_left, MPI_INT, i, 0, MPI_COMM_WORLD);\n",
        "        }\n",
        "        \n",
        "        int position = binarySearch(a, 0, elements_per_process-1, key);\n",
        "        \n",
        "        if(position != -1)\n",
        "          printf(\"Found at: %d\", position);\n",
        "        \n",
        "        int temp;\n",
        "        \n",
        "        for(i=1; i<np; i++) {\n",
        "            MPI_Recv(&temp, 1, MPI_INT, MPI_ANY_SOURCE, 0, MPI_COMM_WORLD, &status);\n",
        "            int sender = status.MPI_SOURCE;\n",
        "            \n",
        "            if(temp != -1)\n",
        "                printf(\"Found at: %d by %d\", (sender*elements_per_process)+temp, sender);\n",
        "        }\n",
        "    }\n",
        "    \n",
        "    else {\n",
        "        MPI_Recv(&n_elements_received, 1, MPI_INT, 0, 0, MPI_COMM_WORLD, &status);\n",
        "        \n",
        "        MPI_Recv(&a2, n_elements_received, MPI_INT, 0, 0, MPI_COMM_WORLD, &status);\n",
        "    \n",
        "        int position = binarySearch(a2, 0, n_elements_received-1, key);\n",
        "        \n",
        "        MPI_Send(&position, 1, MPI_INT, 0, 0, MPI_COMM_WORLD);\n",
        "    }\n",
        "    \n",
        "    MPI_Finalize();\n",
        "    \n",
        "    return 0;\n",
        "}\n",
        "\"\"\""
      ],
      "execution_count": 1,
      "outputs": []
    },
    {
      "cell_type": "code",
      "metadata": {
        "id": "d1jPjuFrzNJA"
      },
      "source": [
        "text_file = open(\"mpiBinary.c\", \"w\");\n",
        "text_file.write(code);\n",
        "text_file.close();"
      ],
      "execution_count": 2,
      "outputs": []
    },
    {
      "cell_type": "code",
      "metadata": {
        "id": "Tdn4zfu3zPwm"
      },
      "source": [
        "!mpiCC mpiBinary.c"
      ],
      "execution_count": 3,
      "outputs": []
    },
    {
      "cell_type": "code",
      "metadata": {
        "colab": {
          "base_uri": "https://localhost:8080/"
        },
        "id": "Xuem--ybzRst",
        "outputId": "a44eb15a-8bdc-4848-8627-a8081279f86c"
      },
      "source": [
        "!mpirun --allow-run-as-root -np 4 ./a.out"
      ],
      "execution_count": 4,
      "outputs": [
        {
          "output_type": "stream",
          "name": "stdout",
          "text": [
            "Found at: 8 by 3"
          ]
        }
      ]
    },
    {
      "cell_type": "markdown",
      "metadata": {
        "id": "Df8I9WQWz25_"
      },
      "source": [
        "# **BEST FIRST SEARCH**"
      ]
    },
    {
      "cell_type": "code",
      "metadata": {
        "id": "tpjiB2CZzdUC"
      },
      "source": [
        "code = \"\"\"\n",
        "#include<iostream>\n",
        "#include<omp.h>\n",
        "\n",
        "using namespace std;\n",
        "int q[100];\n",
        "int visited[7];\n",
        "int local_q;\n",
        "\n",
        "void bfs(int adj_matrix[7][7], int first, int last, int q[], int n_nodes) {\n",
        "    if(first==last)\n",
        "      return;\n",
        "    \n",
        "    int cur_node = q[first++];\n",
        "    cout<<\"  \"<<cur_node;\n",
        "    \n",
        "    omp_set_num_threads(3);\n",
        "    \n",
        "    #pragma omp parallel for shared(visited)\n",
        "    for(int i=0; i<n_nodes; i++) {\n",
        "        if(adj_matrix[cur_node][i] == 1 && visited[i] == 0){\n",
        "            q[last++] = i;\n",
        "            visited[i] = 1;\n",
        "        }\n",
        "    }\n",
        "    \n",
        "    bfs(adj_matrix, first, last, q, n_nodes);\n",
        "}\n",
        "\n",
        "int main() {\n",
        "    int first = -1;\n",
        "    int last = 0;\n",
        "    int n_nodes = 7;\n",
        "    \n",
        "    for(int i=0; i<n_nodes; i++) {\n",
        "        visited[i] = 0;\n",
        "    }\n",
        "    \n",
        "    int adj_matrix[7][7] = {\n",
        "      {0, 1, 1, 0, 0, 0, 0},\n",
        "      {1, 0, 1, 1, 0, 0, 0},\n",
        "      {1, 1, 0, 0, 1, 0, 0},\n",
        "      {0, 1, 0, 0, 1, 0, 0},\n",
        "      {0, 0, 1, 1, 0, 1, 0},\n",
        "      {0, 0, 0, 0, 1, 0, 1},\n",
        "      {0, 0, 0, 0, 0, 1, 0}\n",
        "    };\n",
        "    \n",
        "    int start_node = 3;\n",
        "    q[last++] = start_node;\n",
        "    first++;\n",
        "    visited[start_node] = 1;\n",
        " \n",
        "    bfs(adj_matrix, first, last, q, n_nodes);\n",
        "    \n",
        "    return 0;\n",
        "    \n",
        "}\n",
        "\"\"\""
      ],
      "execution_count": 5,
      "outputs": []
    },
    {
      "cell_type": "code",
      "metadata": {
        "id": "i0IseNVH0GRu"
      },
      "source": [
        "text_file = open(\"bfs.cpp\", \"w\")\n",
        "text_file.write(code)\n",
        "text_file.close()"
      ],
      "execution_count": 6,
      "outputs": []
    },
    {
      "cell_type": "code",
      "metadata": {
        "id": "2BWAUy9c0IWh"
      },
      "source": [
        "!g++ -fopenmp bfs.cpp"
      ],
      "execution_count": 7,
      "outputs": []
    },
    {
      "cell_type": "code",
      "metadata": {
        "colab": {
          "base_uri": "https://localhost:8080/"
        },
        "id": "zwMCYQHX0JfI",
        "outputId": "ffdb581e-6314-4897-cc3b-7df668bf2d84"
      },
      "source": [
        "!./a.out"
      ],
      "execution_count": 8,
      "outputs": [
        {
          "output_type": "stream",
          "name": "stdout",
          "text": [
            "  3  4  1  5  2  0  6"
          ]
        }
      ]
    },
    {
      "cell_type": "code",
      "metadata": {
        "id": "n7JkCXej0v3o"
      },
      "source": [
        ""
      ],
      "execution_count": 8,
      "outputs": []
    }
  ]
}